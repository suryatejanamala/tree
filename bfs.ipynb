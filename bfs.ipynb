{
 "cells": [
  {
   "cell_type": "code",
   "execution_count": 1,
   "metadata": {},
   "outputs": [],
   "source": [
    "def bfs(graph, source):\n",
    "    visited = set()\n",
    "    bfs_traversal = list()  \n",
    "    queue = list() \n",
    "    queue.append(source)\n",
    "    visited.add(source)\n",
    "    while queue:\n",
    "        current_node = queue.pop(0)\n",
    "        bfs_traversal.append(current_node)\n",
    "        for neighbour_node in graph[current_node]:\n",
    "            if neighbour_node not in visited:\n",
    "                visited.add(neighbour_node)\n",
    "                queue.append(neighbour_node)\n",
    "    return bfs_traversal\n",
    "\n",
    "    "
   ]
  }
 ],
 "metadata": {
  "kernelspec": {
   "display_name": "Python 3.10.2 64-bit",
   "language": "python",
   "name": "python3"
  },
  "language_info": {
   "codemirror_mode": {
    "name": "ipython",
    "version": 3
   },
   "file_extension": ".py",
   "mimetype": "text/x-python",
   "name": "python",
   "nbconvert_exporter": "python",
   "pygments_lexer": "ipython3",
   "version": "3.10.2"
  },
  "orig_nbformat": 4,
  "vscode": {
   "interpreter": {
    "hash": "20ae3f289e27c3a0beca4bc586df4c624b9fa04bc55e12142c92a68dcd46f2d1"
   }
  }
 },
 "nbformat": 4,
 "nbformat_minor": 2
}
