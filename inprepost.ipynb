{
 "cells": [
  {
   "cell_type": "code",
   "execution_count": 1,
   "metadata": {},
   "outputs": [
    {
     "name": "stdout",
     "output_type": "stream",
     "text": [
      "Inorder:\n",
      "1 2 3 5 6 7 20 \n",
      "Preorder:\n",
      "20 2 1 6 3 5 7 \n",
      "Postorder:\n",
      "1 5 3 7 6 2 20 \n"
     ]
    }
   ],
   "source": [
    "class Node:\n",
    "    def __init__(self, value):\n",
    "        self.value = value\n",
    "        self.left = None\n",
    "        self.right = None\n",
    "    def add(self, newnode):\n",
    "        if newnode.value < self.value:\n",
    "            if self.left == None:\n",
    "                self.left = newnode\n",
    "            else:\n",
    "                self.left.add(newnode)\n",
    "        else:\n",
    "            if self.right == None:\n",
    "                self.right = newnode\n",
    "            else:\n",
    "                self.right.add(newnode)\n",
    "    def inorder(self):\n",
    "        if self.left != None:\n",
    "            self.left.inorder()\n",
    "        print(self.value, end=\" \")\n",
    "        if self.right != None:\n",
    "            self.right.inorder()\n",
    "    def preorder(self): \n",
    "        print(self.value, end=\" \")\n",
    "        if self.left != None:\n",
    "            self.left.preorder()\n",
    "        if self.right != None:\n",
    "            self.right.preorder()\n",
    "    def postorder(self):\n",
    "        if self.left != None:\n",
    "            self.left.postorder()\n",
    "        if self.right != None:\n",
    "            self.right.postorder()\n",
    "        print(self.value, end=\" \")\n",
    "root = Node(20)\n",
    "for n in [2,6,1,3,5,7]:\n",
    "    root.add(Node(n))\n",
    "print(\"Inorder:\")\n",
    "root.inorder()\n",
    "print()\n",
    "print(\"Preorder:\")\n",
    "root.preorder()\n",
    "print()\n",
    "print(\"Postorder:\")\n",
    "root.postorder()\n",
    "print()"
   ]
  }
 ],
 "metadata": {
  "kernelspec": {
   "display_name": "Python 3.10.2 64-bit",
   "language": "python",
   "name": "python3"
  },
  "language_info": {
   "codemirror_mode": {
    "name": "ipython",
    "version": 3
   },
   "file_extension": ".py",
   "mimetype": "text/x-python",
   "name": "python",
   "nbconvert_exporter": "python",
   "pygments_lexer": "ipython3",
   "version": "3.10.2"
  },
  "orig_nbformat": 4,
  "vscode": {
   "interpreter": {
    "hash": "20ae3f289e27c3a0beca4bc586df4c624b9fa04bc55e12142c92a68dcd46f2d1"
   }
  }
 },
 "nbformat": 4,
 "nbformat_minor": 2
}
